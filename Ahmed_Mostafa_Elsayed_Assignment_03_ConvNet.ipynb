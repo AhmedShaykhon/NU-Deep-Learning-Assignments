{
  "nbformat": 4,
  "nbformat_minor": 0,
  "metadata": {
    "accelerator": "GPU",
    "colab": {
      "name": "Ahmed Mostafa Elsayed_Assignment_03_ConvNet.ipynb",
      "provenance": [],
      "collapsed_sections": [],
      "include_colab_link": true
    },
    "kernelspec": {
      "display_name": "Python 3",
      "language": "python",
      "name": "python3"
    },
    "language_info": {
      "codemirror_mode": {
        "name": "ipython",
        "version": 3
      },
      "file_extension": ".py",
      "mimetype": "text/x-python",
      "name": "python",
      "nbconvert_exporter": "python",
      "pygments_lexer": "ipython3",
      "version": "3.8.3"
    },
    "widgets": {
      "application/vnd.jupyter.widget-state+json": {
        "ab843a4dbb7c4b778871d641c1f1624a": {
          "model_module": "@jupyter-widgets/controls",
          "model_name": "HBoxModel",
          "model_module_version": "1.5.0",
          "state": {
            "_view_name": "HBoxView",
            "_dom_classes": [],
            "_model_name": "HBoxModel",
            "_view_module": "@jupyter-widgets/controls",
            "_model_module_version": "1.5.0",
            "_view_count": null,
            "_view_module_version": "1.5.0",
            "box_style": "",
            "layout": "IPY_MODEL_a7ed853c268046d8878b6ad8ffac4837",
            "_model_module": "@jupyter-widgets/controls",
            "children": [
              "IPY_MODEL_cdc6209aa5654f00a56104567e43026b",
              "IPY_MODEL_9c2c7ad5a5834fb4817b9f75fc8142c1",
              "IPY_MODEL_924317d0090e49d3824c7d68216662e3"
            ]
          }
        },
        "a7ed853c268046d8878b6ad8ffac4837": {
          "model_module": "@jupyter-widgets/base",
          "model_name": "LayoutModel",
          "model_module_version": "1.2.0",
          "state": {
            "_view_name": "LayoutView",
            "grid_template_rows": null,
            "right": null,
            "justify_content": null,
            "_view_module": "@jupyter-widgets/base",
            "overflow": null,
            "_model_module_version": "1.2.0",
            "_view_count": null,
            "flex_flow": null,
            "width": null,
            "min_width": null,
            "border": null,
            "align_items": null,
            "bottom": null,
            "_model_module": "@jupyter-widgets/base",
            "top": null,
            "grid_column": null,
            "overflow_y": null,
            "overflow_x": null,
            "grid_auto_flow": null,
            "grid_area": null,
            "grid_template_columns": null,
            "flex": null,
            "_model_name": "LayoutModel",
            "justify_items": null,
            "grid_row": null,
            "max_height": null,
            "align_content": null,
            "visibility": null,
            "align_self": null,
            "height": null,
            "min_height": null,
            "padding": null,
            "grid_auto_rows": null,
            "grid_gap": null,
            "max_width": null,
            "order": null,
            "_view_module_version": "1.2.0",
            "grid_template_areas": null,
            "object_position": null,
            "object_fit": null,
            "grid_auto_columns": null,
            "margin": null,
            "display": null,
            "left": null
          }
        },
        "cdc6209aa5654f00a56104567e43026b": {
          "model_module": "@jupyter-widgets/controls",
          "model_name": "HTMLModel",
          "model_module_version": "1.5.0",
          "state": {
            "_view_name": "HTMLView",
            "style": "IPY_MODEL_1f3e3da82475466fbd75a308d91b31aa",
            "_dom_classes": [],
            "description": "",
            "_model_name": "HTMLModel",
            "placeholder": "​",
            "_view_module": "@jupyter-widgets/controls",
            "_model_module_version": "1.5.0",
            "value": "",
            "_view_count": null,
            "_view_module_version": "1.5.0",
            "description_tooltip": null,
            "_model_module": "@jupyter-widgets/controls",
            "layout": "IPY_MODEL_5a7773c02a9f4a9da5705aff705005f7"
          }
        },
        "9c2c7ad5a5834fb4817b9f75fc8142c1": {
          "model_module": "@jupyter-widgets/controls",
          "model_name": "FloatProgressModel",
          "model_module_version": "1.5.0",
          "state": {
            "_view_name": "ProgressView",
            "style": "IPY_MODEL_0f18198464c4418a9a3d982b402495d9",
            "_dom_classes": [],
            "description": "",
            "_model_name": "FloatProgressModel",
            "bar_style": "success",
            "max": 9912422,
            "_view_module": "@jupyter-widgets/controls",
            "_model_module_version": "1.5.0",
            "value": 9912422,
            "_view_count": null,
            "_view_module_version": "1.5.0",
            "orientation": "horizontal",
            "min": 0,
            "description_tooltip": null,
            "_model_module": "@jupyter-widgets/controls",
            "layout": "IPY_MODEL_d99a11ae1f364330b8e05c978e750053"
          }
        },
        "924317d0090e49d3824c7d68216662e3": {
          "model_module": "@jupyter-widgets/controls",
          "model_name": "HTMLModel",
          "model_module_version": "1.5.0",
          "state": {
            "_view_name": "HTMLView",
            "style": "IPY_MODEL_9eaec41ecc934101aa653c9148163ef3",
            "_dom_classes": [],
            "description": "",
            "_model_name": "HTMLModel",
            "placeholder": "​",
            "_view_module": "@jupyter-widgets/controls",
            "_model_module_version": "1.5.0",
            "value": " 9913344/? [00:00&lt;00:00, 49139955.77it/s]",
            "_view_count": null,
            "_view_module_version": "1.5.0",
            "description_tooltip": null,
            "_model_module": "@jupyter-widgets/controls",
            "layout": "IPY_MODEL_1b367d1ef6e24170a2c63ce23ead2545"
          }
        },
        "1f3e3da82475466fbd75a308d91b31aa": {
          "model_module": "@jupyter-widgets/controls",
          "model_name": "DescriptionStyleModel",
          "model_module_version": "1.5.0",
          "state": {
            "_view_name": "StyleView",
            "_model_name": "DescriptionStyleModel",
            "description_width": "",
            "_view_module": "@jupyter-widgets/base",
            "_model_module_version": "1.5.0",
            "_view_count": null,
            "_view_module_version": "1.2.0",
            "_model_module": "@jupyter-widgets/controls"
          }
        },
        "5a7773c02a9f4a9da5705aff705005f7": {
          "model_module": "@jupyter-widgets/base",
          "model_name": "LayoutModel",
          "model_module_version": "1.2.0",
          "state": {
            "_view_name": "LayoutView",
            "grid_template_rows": null,
            "right": null,
            "justify_content": null,
            "_view_module": "@jupyter-widgets/base",
            "overflow": null,
            "_model_module_version": "1.2.0",
            "_view_count": null,
            "flex_flow": null,
            "width": null,
            "min_width": null,
            "border": null,
            "align_items": null,
            "bottom": null,
            "_model_module": "@jupyter-widgets/base",
            "top": null,
            "grid_column": null,
            "overflow_y": null,
            "overflow_x": null,
            "grid_auto_flow": null,
            "grid_area": null,
            "grid_template_columns": null,
            "flex": null,
            "_model_name": "LayoutModel",
            "justify_items": null,
            "grid_row": null,
            "max_height": null,
            "align_content": null,
            "visibility": null,
            "align_self": null,
            "height": null,
            "min_height": null,
            "padding": null,
            "grid_auto_rows": null,
            "grid_gap": null,
            "max_width": null,
            "order": null,
            "_view_module_version": "1.2.0",
            "grid_template_areas": null,
            "object_position": null,
            "object_fit": null,
            "grid_auto_columns": null,
            "margin": null,
            "display": null,
            "left": null
          }
        },
        "0f18198464c4418a9a3d982b402495d9": {
          "model_module": "@jupyter-widgets/controls",
          "model_name": "ProgressStyleModel",
          "model_module_version": "1.5.0",
          "state": {
            "_view_name": "StyleView",
            "_model_name": "ProgressStyleModel",
            "description_width": "",
            "_view_module": "@jupyter-widgets/base",
            "_model_module_version": "1.5.0",
            "_view_count": null,
            "_view_module_version": "1.2.0",
            "bar_color": null,
            "_model_module": "@jupyter-widgets/controls"
          }
        },
        "d99a11ae1f364330b8e05c978e750053": {
          "model_module": "@jupyter-widgets/base",
          "model_name": "LayoutModel",
          "model_module_version": "1.2.0",
          "state": {
            "_view_name": "LayoutView",
            "grid_template_rows": null,
            "right": null,
            "justify_content": null,
            "_view_module": "@jupyter-widgets/base",
            "overflow": null,
            "_model_module_version": "1.2.0",
            "_view_count": null,
            "flex_flow": null,
            "width": null,
            "min_width": null,
            "border": null,
            "align_items": null,
            "bottom": null,
            "_model_module": "@jupyter-widgets/base",
            "top": null,
            "grid_column": null,
            "overflow_y": null,
            "overflow_x": null,
            "grid_auto_flow": null,
            "grid_area": null,
            "grid_template_columns": null,
            "flex": null,
            "_model_name": "LayoutModel",
            "justify_items": null,
            "grid_row": null,
            "max_height": null,
            "align_content": null,
            "visibility": null,
            "align_self": null,
            "height": null,
            "min_height": null,
            "padding": null,
            "grid_auto_rows": null,
            "grid_gap": null,
            "max_width": null,
            "order": null,
            "_view_module_version": "1.2.0",
            "grid_template_areas": null,
            "object_position": null,
            "object_fit": null,
            "grid_auto_columns": null,
            "margin": null,
            "display": null,
            "left": null
          }
        },
        "9eaec41ecc934101aa653c9148163ef3": {
          "model_module": "@jupyter-widgets/controls",
          "model_name": "DescriptionStyleModel",
          "model_module_version": "1.5.0",
          "state": {
            "_view_name": "StyleView",
            "_model_name": "DescriptionStyleModel",
            "description_width": "",
            "_view_module": "@jupyter-widgets/base",
            "_model_module_version": "1.5.0",
            "_view_count": null,
            "_view_module_version": "1.2.0",
            "_model_module": "@jupyter-widgets/controls"
          }
        },
        "1b367d1ef6e24170a2c63ce23ead2545": {
          "model_module": "@jupyter-widgets/base",
          "model_name": "LayoutModel",
          "model_module_version": "1.2.0",
          "state": {
            "_view_name": "LayoutView",
            "grid_template_rows": null,
            "right": null,
            "justify_content": null,
            "_view_module": "@jupyter-widgets/base",
            "overflow": null,
            "_model_module_version": "1.2.0",
            "_view_count": null,
            "flex_flow": null,
            "width": null,
            "min_width": null,
            "border": null,
            "align_items": null,
            "bottom": null,
            "_model_module": "@jupyter-widgets/base",
            "top": null,
            "grid_column": null,
            "overflow_y": null,
            "overflow_x": null,
            "grid_auto_flow": null,
            "grid_area": null,
            "grid_template_columns": null,
            "flex": null,
            "_model_name": "LayoutModel",
            "justify_items": null,
            "grid_row": null,
            "max_height": null,
            "align_content": null,
            "visibility": null,
            "align_self": null,
            "height": null,
            "min_height": null,
            "padding": null,
            "grid_auto_rows": null,
            "grid_gap": null,
            "max_width": null,
            "order": null,
            "_view_module_version": "1.2.0",
            "grid_template_areas": null,
            "object_position": null,
            "object_fit": null,
            "grid_auto_columns": null,
            "margin": null,
            "display": null,
            "left": null
          }
        },
        "4c08c73e101f4888baa98ea0bc9f1320": {
          "model_module": "@jupyter-widgets/controls",
          "model_name": "HBoxModel",
          "model_module_version": "1.5.0",
          "state": {
            "_view_name": "HBoxView",
            "_dom_classes": [],
            "_model_name": "HBoxModel",
            "_view_module": "@jupyter-widgets/controls",
            "_model_module_version": "1.5.0",
            "_view_count": null,
            "_view_module_version": "1.5.0",
            "box_style": "",
            "layout": "IPY_MODEL_121dc686543547b5929c41d189e1a2a6",
            "_model_module": "@jupyter-widgets/controls",
            "children": [
              "IPY_MODEL_bdd83495d6fd4a77a8668ff44e630971",
              "IPY_MODEL_7ebec8413d0d41f09de9145265ae4ef8",
              "IPY_MODEL_8e041cdac6e54b15bc2006275228e86f"
            ]
          }
        },
        "121dc686543547b5929c41d189e1a2a6": {
          "model_module": "@jupyter-widgets/base",
          "model_name": "LayoutModel",
          "model_module_version": "1.2.0",
          "state": {
            "_view_name": "LayoutView",
            "grid_template_rows": null,
            "right": null,
            "justify_content": null,
            "_view_module": "@jupyter-widgets/base",
            "overflow": null,
            "_model_module_version": "1.2.0",
            "_view_count": null,
            "flex_flow": null,
            "width": null,
            "min_width": null,
            "border": null,
            "align_items": null,
            "bottom": null,
            "_model_module": "@jupyter-widgets/base",
            "top": null,
            "grid_column": null,
            "overflow_y": null,
            "overflow_x": null,
            "grid_auto_flow": null,
            "grid_area": null,
            "grid_template_columns": null,
            "flex": null,
            "_model_name": "LayoutModel",
            "justify_items": null,
            "grid_row": null,
            "max_height": null,
            "align_content": null,
            "visibility": null,
            "align_self": null,
            "height": null,
            "min_height": null,
            "padding": null,
            "grid_auto_rows": null,
            "grid_gap": null,
            "max_width": null,
            "order": null,
            "_view_module_version": "1.2.0",
            "grid_template_areas": null,
            "object_position": null,
            "object_fit": null,
            "grid_auto_columns": null,
            "margin": null,
            "display": null,
            "left": null
          }
        },
        "bdd83495d6fd4a77a8668ff44e630971": {
          "model_module": "@jupyter-widgets/controls",
          "model_name": "HTMLModel",
          "model_module_version": "1.5.0",
          "state": {
            "_view_name": "HTMLView",
            "style": "IPY_MODEL_5129988907144f45829b3f404d130b57",
            "_dom_classes": [],
            "description": "",
            "_model_name": "HTMLModel",
            "placeholder": "​",
            "_view_module": "@jupyter-widgets/controls",
            "_model_module_version": "1.5.0",
            "value": "",
            "_view_count": null,
            "_view_module_version": "1.5.0",
            "description_tooltip": null,
            "_model_module": "@jupyter-widgets/controls",
            "layout": "IPY_MODEL_06b03f3d290146a196dbdc03f00eaafd"
          }
        },
        "7ebec8413d0d41f09de9145265ae4ef8": {
          "model_module": "@jupyter-widgets/controls",
          "model_name": "FloatProgressModel",
          "model_module_version": "1.5.0",
          "state": {
            "_view_name": "ProgressView",
            "style": "IPY_MODEL_6dc211b47fe349d3a6d313efd6c5c558",
            "_dom_classes": [],
            "description": "",
            "_model_name": "FloatProgressModel",
            "bar_style": "success",
            "max": 28881,
            "_view_module": "@jupyter-widgets/controls",
            "_model_module_version": "1.5.0",
            "value": 28881,
            "_view_count": null,
            "_view_module_version": "1.5.0",
            "orientation": "horizontal",
            "min": 0,
            "description_tooltip": null,
            "_model_module": "@jupyter-widgets/controls",
            "layout": "IPY_MODEL_d8b27765bf4e4a0eae7b98378962d6a7"
          }
        },
        "8e041cdac6e54b15bc2006275228e86f": {
          "model_module": "@jupyter-widgets/controls",
          "model_name": "HTMLModel",
          "model_module_version": "1.5.0",
          "state": {
            "_view_name": "HTMLView",
            "style": "IPY_MODEL_0d71685e18bd4e8a8fcdbf9b4bb572e2",
            "_dom_classes": [],
            "description": "",
            "_model_name": "HTMLModel",
            "placeholder": "​",
            "_view_module": "@jupyter-widgets/controls",
            "_model_module_version": "1.5.0",
            "value": " 29696/? [00:00&lt;00:00, 738172.45it/s]",
            "_view_count": null,
            "_view_module_version": "1.5.0",
            "description_tooltip": null,
            "_model_module": "@jupyter-widgets/controls",
            "layout": "IPY_MODEL_ac60240d7400490fbd9ea8929b6be6b0"
          }
        },
        "5129988907144f45829b3f404d130b57": {
          "model_module": "@jupyter-widgets/controls",
          "model_name": "DescriptionStyleModel",
          "model_module_version": "1.5.0",
          "state": {
            "_view_name": "StyleView",
            "_model_name": "DescriptionStyleModel",
            "description_width": "",
            "_view_module": "@jupyter-widgets/base",
            "_model_module_version": "1.5.0",
            "_view_count": null,
            "_view_module_version": "1.2.0",
            "_model_module": "@jupyter-widgets/controls"
          }
        },
        "06b03f3d290146a196dbdc03f00eaafd": {
          "model_module": "@jupyter-widgets/base",
          "model_name": "LayoutModel",
          "model_module_version": "1.2.0",
          "state": {
            "_view_name": "LayoutView",
            "grid_template_rows": null,
            "right": null,
            "justify_content": null,
            "_view_module": "@jupyter-widgets/base",
            "overflow": null,
            "_model_module_version": "1.2.0",
            "_view_count": null,
            "flex_flow": null,
            "width": null,
            "min_width": null,
            "border": null,
            "align_items": null,
            "bottom": null,
            "_model_module": "@jupyter-widgets/base",
            "top": null,
            "grid_column": null,
            "overflow_y": null,
            "overflow_x": null,
            "grid_auto_flow": null,
            "grid_area": null,
            "grid_template_columns": null,
            "flex": null,
            "_model_name": "LayoutModel",
            "justify_items": null,
            "grid_row": null,
            "max_height": null,
            "align_content": null,
            "visibility": null,
            "align_self": null,
            "height": null,
            "min_height": null,
            "padding": null,
            "grid_auto_rows": null,
            "grid_gap": null,
            "max_width": null,
            "order": null,
            "_view_module_version": "1.2.0",
            "grid_template_areas": null,
            "object_position": null,
            "object_fit": null,
            "grid_auto_columns": null,
            "margin": null,
            "display": null,
            "left": null
          }
        },
        "6dc211b47fe349d3a6d313efd6c5c558": {
          "model_module": "@jupyter-widgets/controls",
          "model_name": "ProgressStyleModel",
          "model_module_version": "1.5.0",
          "state": {
            "_view_name": "StyleView",
            "_model_name": "ProgressStyleModel",
            "description_width": "",
            "_view_module": "@jupyter-widgets/base",
            "_model_module_version": "1.5.0",
            "_view_count": null,
            "_view_module_version": "1.2.0",
            "bar_color": null,
            "_model_module": "@jupyter-widgets/controls"
          }
        },
        "d8b27765bf4e4a0eae7b98378962d6a7": {
          "model_module": "@jupyter-widgets/base",
          "model_name": "LayoutModel",
          "model_module_version": "1.2.0",
          "state": {
            "_view_name": "LayoutView",
            "grid_template_rows": null,
            "right": null,
            "justify_content": null,
            "_view_module": "@jupyter-widgets/base",
            "overflow": null,
            "_model_module_version": "1.2.0",
            "_view_count": null,
            "flex_flow": null,
            "width": null,
            "min_width": null,
            "border": null,
            "align_items": null,
            "bottom": null,
            "_model_module": "@jupyter-widgets/base",
            "top": null,
            "grid_column": null,
            "overflow_y": null,
            "overflow_x": null,
            "grid_auto_flow": null,
            "grid_area": null,
            "grid_template_columns": null,
            "flex": null,
            "_model_name": "LayoutModel",
            "justify_items": null,
            "grid_row": null,
            "max_height": null,
            "align_content": null,
            "visibility": null,
            "align_self": null,
            "height": null,
            "min_height": null,
            "padding": null,
            "grid_auto_rows": null,
            "grid_gap": null,
            "max_width": null,
            "order": null,
            "_view_module_version": "1.2.0",
            "grid_template_areas": null,
            "object_position": null,
            "object_fit": null,
            "grid_auto_columns": null,
            "margin": null,
            "display": null,
            "left": null
          }
        },
        "0d71685e18bd4e8a8fcdbf9b4bb572e2": {
          "model_module": "@jupyter-widgets/controls",
          "model_name": "DescriptionStyleModel",
          "model_module_version": "1.5.0",
          "state": {
            "_view_name": "StyleView",
            "_model_name": "DescriptionStyleModel",
            "description_width": "",
            "_view_module": "@jupyter-widgets/base",
            "_model_module_version": "1.5.0",
            "_view_count": null,
            "_view_module_version": "1.2.0",
            "_model_module": "@jupyter-widgets/controls"
          }
        },
        "ac60240d7400490fbd9ea8929b6be6b0": {
          "model_module": "@jupyter-widgets/base",
          "model_name": "LayoutModel",
          "model_module_version": "1.2.0",
          "state": {
            "_view_name": "LayoutView",
            "grid_template_rows": null,
            "right": null,
            "justify_content": null,
            "_view_module": "@jupyter-widgets/base",
            "overflow": null,
            "_model_module_version": "1.2.0",
            "_view_count": null,
            "flex_flow": null,
            "width": null,
            "min_width": null,
            "border": null,
            "align_items": null,
            "bottom": null,
            "_model_module": "@jupyter-widgets/base",
            "top": null,
            "grid_column": null,
            "overflow_y": null,
            "overflow_x": null,
            "grid_auto_flow": null,
            "grid_area": null,
            "grid_template_columns": null,
            "flex": null,
            "_model_name": "LayoutModel",
            "justify_items": null,
            "grid_row": null,
            "max_height": null,
            "align_content": null,
            "visibility": null,
            "align_self": null,
            "height": null,
            "min_height": null,
            "padding": null,
            "grid_auto_rows": null,
            "grid_gap": null,
            "max_width": null,
            "order": null,
            "_view_module_version": "1.2.0",
            "grid_template_areas": null,
            "object_position": null,
            "object_fit": null,
            "grid_auto_columns": null,
            "margin": null,
            "display": null,
            "left": null
          }
        },
        "7e580fc2a54e4f8399002ffdc6876e5c": {
          "model_module": "@jupyter-widgets/controls",
          "model_name": "HBoxModel",
          "model_module_version": "1.5.0",
          "state": {
            "_view_name": "HBoxView",
            "_dom_classes": [],
            "_model_name": "HBoxModel",
            "_view_module": "@jupyter-widgets/controls",
            "_model_module_version": "1.5.0",
            "_view_count": null,
            "_view_module_version": "1.5.0",
            "box_style": "",
            "layout": "IPY_MODEL_f79eb79a68934ae5b84d11afda3bcdb5",
            "_model_module": "@jupyter-widgets/controls",
            "children": [
              "IPY_MODEL_19211abfcc7c402eba7e80cdea7c5f22",
              "IPY_MODEL_201ba0b1802e42da94d03f00b5c3ae69",
              "IPY_MODEL_455900a315bb4006b300f45a7202f55a"
            ]
          }
        },
        "f79eb79a68934ae5b84d11afda3bcdb5": {
          "model_module": "@jupyter-widgets/base",
          "model_name": "LayoutModel",
          "model_module_version": "1.2.0",
          "state": {
            "_view_name": "LayoutView",
            "grid_template_rows": null,
            "right": null,
            "justify_content": null,
            "_view_module": "@jupyter-widgets/base",
            "overflow": null,
            "_model_module_version": "1.2.0",
            "_view_count": null,
            "flex_flow": null,
            "width": null,
            "min_width": null,
            "border": null,
            "align_items": null,
            "bottom": null,
            "_model_module": "@jupyter-widgets/base",
            "top": null,
            "grid_column": null,
            "overflow_y": null,
            "overflow_x": null,
            "grid_auto_flow": null,
            "grid_area": null,
            "grid_template_columns": null,
            "flex": null,
            "_model_name": "LayoutModel",
            "justify_items": null,
            "grid_row": null,
            "max_height": null,
            "align_content": null,
            "visibility": null,
            "align_self": null,
            "height": null,
            "min_height": null,
            "padding": null,
            "grid_auto_rows": null,
            "grid_gap": null,
            "max_width": null,
            "order": null,
            "_view_module_version": "1.2.0",
            "grid_template_areas": null,
            "object_position": null,
            "object_fit": null,
            "grid_auto_columns": null,
            "margin": null,
            "display": null,
            "left": null
          }
        },
        "19211abfcc7c402eba7e80cdea7c5f22": {
          "model_module": "@jupyter-widgets/controls",
          "model_name": "HTMLModel",
          "model_module_version": "1.5.0",
          "state": {
            "_view_name": "HTMLView",
            "style": "IPY_MODEL_1a66f4ebd19a4ca6a70a47a7d566d9b2",
            "_dom_classes": [],
            "description": "",
            "_model_name": "HTMLModel",
            "placeholder": "​",
            "_view_module": "@jupyter-widgets/controls",
            "_model_module_version": "1.5.0",
            "value": "",
            "_view_count": null,
            "_view_module_version": "1.5.0",
            "description_tooltip": null,
            "_model_module": "@jupyter-widgets/controls",
            "layout": "IPY_MODEL_470be5d72cee45ff8044305765c55ef6"
          }
        },
        "201ba0b1802e42da94d03f00b5c3ae69": {
          "model_module": "@jupyter-widgets/controls",
          "model_name": "FloatProgressModel",
          "model_module_version": "1.5.0",
          "state": {
            "_view_name": "ProgressView",
            "style": "IPY_MODEL_da7134a393114d09acb432abbaea0434",
            "_dom_classes": [],
            "description": "",
            "_model_name": "FloatProgressModel",
            "bar_style": "success",
            "max": 1648877,
            "_view_module": "@jupyter-widgets/controls",
            "_model_module_version": "1.5.0",
            "value": 1648877,
            "_view_count": null,
            "_view_module_version": "1.5.0",
            "orientation": "horizontal",
            "min": 0,
            "description_tooltip": null,
            "_model_module": "@jupyter-widgets/controls",
            "layout": "IPY_MODEL_a30f0768495f40dc8971e433d41b8ee4"
          }
        },
        "455900a315bb4006b300f45a7202f55a": {
          "model_module": "@jupyter-widgets/controls",
          "model_name": "HTMLModel",
          "model_module_version": "1.5.0",
          "state": {
            "_view_name": "HTMLView",
            "style": "IPY_MODEL_8a3214e8e0d248ffbcfae8c7b8a38826",
            "_dom_classes": [],
            "description": "",
            "_model_name": "HTMLModel",
            "placeholder": "​",
            "_view_module": "@jupyter-widgets/controls",
            "_model_module_version": "1.5.0",
            "value": " 1649664/? [00:00&lt;00:00, 16662353.65it/s]",
            "_view_count": null,
            "_view_module_version": "1.5.0",
            "description_tooltip": null,
            "_model_module": "@jupyter-widgets/controls",
            "layout": "IPY_MODEL_d47d7231eed44979b9c1246405d1693c"
          }
        },
        "1a66f4ebd19a4ca6a70a47a7d566d9b2": {
          "model_module": "@jupyter-widgets/controls",
          "model_name": "DescriptionStyleModel",
          "model_module_version": "1.5.0",
          "state": {
            "_view_name": "StyleView",
            "_model_name": "DescriptionStyleModel",
            "description_width": "",
            "_view_module": "@jupyter-widgets/base",
            "_model_module_version": "1.5.0",
            "_view_count": null,
            "_view_module_version": "1.2.0",
            "_model_module": "@jupyter-widgets/controls"
          }
        },
        "470be5d72cee45ff8044305765c55ef6": {
          "model_module": "@jupyter-widgets/base",
          "model_name": "LayoutModel",
          "model_module_version": "1.2.0",
          "state": {
            "_view_name": "LayoutView",
            "grid_template_rows": null,
            "right": null,
            "justify_content": null,
            "_view_module": "@jupyter-widgets/base",
            "overflow": null,
            "_model_module_version": "1.2.0",
            "_view_count": null,
            "flex_flow": null,
            "width": null,
            "min_width": null,
            "border": null,
            "align_items": null,
            "bottom": null,
            "_model_module": "@jupyter-widgets/base",
            "top": null,
            "grid_column": null,
            "overflow_y": null,
            "overflow_x": null,
            "grid_auto_flow": null,
            "grid_area": null,
            "grid_template_columns": null,
            "flex": null,
            "_model_name": "LayoutModel",
            "justify_items": null,
            "grid_row": null,
            "max_height": null,
            "align_content": null,
            "visibility": null,
            "align_self": null,
            "height": null,
            "min_height": null,
            "padding": null,
            "grid_auto_rows": null,
            "grid_gap": null,
            "max_width": null,
            "order": null,
            "_view_module_version": "1.2.0",
            "grid_template_areas": null,
            "object_position": null,
            "object_fit": null,
            "grid_auto_columns": null,
            "margin": null,
            "display": null,
            "left": null
          }
        },
        "da7134a393114d09acb432abbaea0434": {
          "model_module": "@jupyter-widgets/controls",
          "model_name": "ProgressStyleModel",
          "model_module_version": "1.5.0",
          "state": {
            "_view_name": "StyleView",
            "_model_name": "ProgressStyleModel",
            "description_width": "",
            "_view_module": "@jupyter-widgets/base",
            "_model_module_version": "1.5.0",
            "_view_count": null,
            "_view_module_version": "1.2.0",
            "bar_color": null,
            "_model_module": "@jupyter-widgets/controls"
          }
        },
        "a30f0768495f40dc8971e433d41b8ee4": {
          "model_module": "@jupyter-widgets/base",
          "model_name": "LayoutModel",
          "model_module_version": "1.2.0",
          "state": {
            "_view_name": "LayoutView",
            "grid_template_rows": null,
            "right": null,
            "justify_content": null,
            "_view_module": "@jupyter-widgets/base",
            "overflow": null,
            "_model_module_version": "1.2.0",
            "_view_count": null,
            "flex_flow": null,
            "width": null,
            "min_width": null,
            "border": null,
            "align_items": null,
            "bottom": null,
            "_model_module": "@jupyter-widgets/base",
            "top": null,
            "grid_column": null,
            "overflow_y": null,
            "overflow_x": null,
            "grid_auto_flow": null,
            "grid_area": null,
            "grid_template_columns": null,
            "flex": null,
            "_model_name": "LayoutModel",
            "justify_items": null,
            "grid_row": null,
            "max_height": null,
            "align_content": null,
            "visibility": null,
            "align_self": null,
            "height": null,
            "min_height": null,
            "padding": null,
            "grid_auto_rows": null,
            "grid_gap": null,
            "max_width": null,
            "order": null,
            "_view_module_version": "1.2.0",
            "grid_template_areas": null,
            "object_position": null,
            "object_fit": null,
            "grid_auto_columns": null,
            "margin": null,
            "display": null,
            "left": null
          }
        },
        "8a3214e8e0d248ffbcfae8c7b8a38826": {
          "model_module": "@jupyter-widgets/controls",
          "model_name": "DescriptionStyleModel",
          "model_module_version": "1.5.0",
          "state": {
            "_view_name": "StyleView",
            "_model_name": "DescriptionStyleModel",
            "description_width": "",
            "_view_module": "@jupyter-widgets/base",
            "_model_module_version": "1.5.0",
            "_view_count": null,
            "_view_module_version": "1.2.0",
            "_model_module": "@jupyter-widgets/controls"
          }
        },
        "d47d7231eed44979b9c1246405d1693c": {
          "model_module": "@jupyter-widgets/base",
          "model_name": "LayoutModel",
          "model_module_version": "1.2.0",
          "state": {
            "_view_name": "LayoutView",
            "grid_template_rows": null,
            "right": null,
            "justify_content": null,
            "_view_module": "@jupyter-widgets/base",
            "overflow": null,
            "_model_module_version": "1.2.0",
            "_view_count": null,
            "flex_flow": null,
            "width": null,
            "min_width": null,
            "border": null,
            "align_items": null,
            "bottom": null,
            "_model_module": "@jupyter-widgets/base",
            "top": null,
            "grid_column": null,
            "overflow_y": null,
            "overflow_x": null,
            "grid_auto_flow": null,
            "grid_area": null,
            "grid_template_columns": null,
            "flex": null,
            "_model_name": "LayoutModel",
            "justify_items": null,
            "grid_row": null,
            "max_height": null,
            "align_content": null,
            "visibility": null,
            "align_self": null,
            "height": null,
            "min_height": null,
            "padding": null,
            "grid_auto_rows": null,
            "grid_gap": null,
            "max_width": null,
            "order": null,
            "_view_module_version": "1.2.0",
            "grid_template_areas": null,
            "object_position": null,
            "object_fit": null,
            "grid_auto_columns": null,
            "margin": null,
            "display": null,
            "left": null
          }
        },
        "8677e90582ab46e5837b438bda1f431e": {
          "model_module": "@jupyter-widgets/controls",
          "model_name": "HBoxModel",
          "model_module_version": "1.5.0",
          "state": {
            "_view_name": "HBoxView",
            "_dom_classes": [],
            "_model_name": "HBoxModel",
            "_view_module": "@jupyter-widgets/controls",
            "_model_module_version": "1.5.0",
            "_view_count": null,
            "_view_module_version": "1.5.0",
            "box_style": "",
            "layout": "IPY_MODEL_c8368e27a2fb40b39745aa31c11a7f21",
            "_model_module": "@jupyter-widgets/controls",
            "children": [
              "IPY_MODEL_a9b08ba52a934f03a0741020266936ed",
              "IPY_MODEL_3443529b195e4581a898ed38f3b2d75c",
              "IPY_MODEL_84831c77a5d844288f3148a49a9e7f9e"
            ]
          }
        },
        "c8368e27a2fb40b39745aa31c11a7f21": {
          "model_module": "@jupyter-widgets/base",
          "model_name": "LayoutModel",
          "model_module_version": "1.2.0",
          "state": {
            "_view_name": "LayoutView",
            "grid_template_rows": null,
            "right": null,
            "justify_content": null,
            "_view_module": "@jupyter-widgets/base",
            "overflow": null,
            "_model_module_version": "1.2.0",
            "_view_count": null,
            "flex_flow": null,
            "width": null,
            "min_width": null,
            "border": null,
            "align_items": null,
            "bottom": null,
            "_model_module": "@jupyter-widgets/base",
            "top": null,
            "grid_column": null,
            "overflow_y": null,
            "overflow_x": null,
            "grid_auto_flow": null,
            "grid_area": null,
            "grid_template_columns": null,
            "flex": null,
            "_model_name": "LayoutModel",
            "justify_items": null,
            "grid_row": null,
            "max_height": null,
            "align_content": null,
            "visibility": null,
            "align_self": null,
            "height": null,
            "min_height": null,
            "padding": null,
            "grid_auto_rows": null,
            "grid_gap": null,
            "max_width": null,
            "order": null,
            "_view_module_version": "1.2.0",
            "grid_template_areas": null,
            "object_position": null,
            "object_fit": null,
            "grid_auto_columns": null,
            "margin": null,
            "display": null,
            "left": null
          }
        },
        "a9b08ba52a934f03a0741020266936ed": {
          "model_module": "@jupyter-widgets/controls",
          "model_name": "HTMLModel",
          "model_module_version": "1.5.0",
          "state": {
            "_view_name": "HTMLView",
            "style": "IPY_MODEL_051ef138014b4e78a86c133f2faffb88",
            "_dom_classes": [],
            "description": "",
            "_model_name": "HTMLModel",
            "placeholder": "​",
            "_view_module": "@jupyter-widgets/controls",
            "_model_module_version": "1.5.0",
            "value": "",
            "_view_count": null,
            "_view_module_version": "1.5.0",
            "description_tooltip": null,
            "_model_module": "@jupyter-widgets/controls",
            "layout": "IPY_MODEL_e788b81bf4184b33aa6bd15d84833ebc"
          }
        },
        "3443529b195e4581a898ed38f3b2d75c": {
          "model_module": "@jupyter-widgets/controls",
          "model_name": "FloatProgressModel",
          "model_module_version": "1.5.0",
          "state": {
            "_view_name": "ProgressView",
            "style": "IPY_MODEL_a337befc11694a7abaf23cab7b30d43a",
            "_dom_classes": [],
            "description": "",
            "_model_name": "FloatProgressModel",
            "bar_style": "success",
            "max": 4542,
            "_view_module": "@jupyter-widgets/controls",
            "_model_module_version": "1.5.0",
            "value": 4542,
            "_view_count": null,
            "_view_module_version": "1.5.0",
            "orientation": "horizontal",
            "min": 0,
            "description_tooltip": null,
            "_model_module": "@jupyter-widgets/controls",
            "layout": "IPY_MODEL_6931d384cce549048810ab7389cd37e1"
          }
        },
        "84831c77a5d844288f3148a49a9e7f9e": {
          "model_module": "@jupyter-widgets/controls",
          "model_name": "HTMLModel",
          "model_module_version": "1.5.0",
          "state": {
            "_view_name": "HTMLView",
            "style": "IPY_MODEL_20be55bb19e64aa9afd87b1fdbed2d94",
            "_dom_classes": [],
            "description": "",
            "_model_name": "HTMLModel",
            "placeholder": "​",
            "_view_module": "@jupyter-widgets/controls",
            "_model_module_version": "1.5.0",
            "value": " 5120/? [00:00&lt;00:00, 124203.08it/s]",
            "_view_count": null,
            "_view_module_version": "1.5.0",
            "description_tooltip": null,
            "_model_module": "@jupyter-widgets/controls",
            "layout": "IPY_MODEL_c2bc9fb7586f4ad9be81be7748975e07"
          }
        },
        "051ef138014b4e78a86c133f2faffb88": {
          "model_module": "@jupyter-widgets/controls",
          "model_name": "DescriptionStyleModel",
          "model_module_version": "1.5.0",
          "state": {
            "_view_name": "StyleView",
            "_model_name": "DescriptionStyleModel",
            "description_width": "",
            "_view_module": "@jupyter-widgets/base",
            "_model_module_version": "1.5.0",
            "_view_count": null,
            "_view_module_version": "1.2.0",
            "_model_module": "@jupyter-widgets/controls"
          }
        },
        "e788b81bf4184b33aa6bd15d84833ebc": {
          "model_module": "@jupyter-widgets/base",
          "model_name": "LayoutModel",
          "model_module_version": "1.2.0",
          "state": {
            "_view_name": "LayoutView",
            "grid_template_rows": null,
            "right": null,
            "justify_content": null,
            "_view_module": "@jupyter-widgets/base",
            "overflow": null,
            "_model_module_version": "1.2.0",
            "_view_count": null,
            "flex_flow": null,
            "width": null,
            "min_width": null,
            "border": null,
            "align_items": null,
            "bottom": null,
            "_model_module": "@jupyter-widgets/base",
            "top": null,
            "grid_column": null,
            "overflow_y": null,
            "overflow_x": null,
            "grid_auto_flow": null,
            "grid_area": null,
            "grid_template_columns": null,
            "flex": null,
            "_model_name": "LayoutModel",
            "justify_items": null,
            "grid_row": null,
            "max_height": null,
            "align_content": null,
            "visibility": null,
            "align_self": null,
            "height": null,
            "min_height": null,
            "padding": null,
            "grid_auto_rows": null,
            "grid_gap": null,
            "max_width": null,
            "order": null,
            "_view_module_version": "1.2.0",
            "grid_template_areas": null,
            "object_position": null,
            "object_fit": null,
            "grid_auto_columns": null,
            "margin": null,
            "display": null,
            "left": null
          }
        },
        "a337befc11694a7abaf23cab7b30d43a": {
          "model_module": "@jupyter-widgets/controls",
          "model_name": "ProgressStyleModel",
          "model_module_version": "1.5.0",
          "state": {
            "_view_name": "StyleView",
            "_model_name": "ProgressStyleModel",
            "description_width": "",
            "_view_module": "@jupyter-widgets/base",
            "_model_module_version": "1.5.0",
            "_view_count": null,
            "_view_module_version": "1.2.0",
            "bar_color": null,
            "_model_module": "@jupyter-widgets/controls"
          }
        },
        "6931d384cce549048810ab7389cd37e1": {
          "model_module": "@jupyter-widgets/base",
          "model_name": "LayoutModel",
          "model_module_version": "1.2.0",
          "state": {
            "_view_name": "LayoutView",
            "grid_template_rows": null,
            "right": null,
            "justify_content": null,
            "_view_module": "@jupyter-widgets/base",
            "overflow": null,
            "_model_module_version": "1.2.0",
            "_view_count": null,
            "flex_flow": null,
            "width": null,
            "min_width": null,
            "border": null,
            "align_items": null,
            "bottom": null,
            "_model_module": "@jupyter-widgets/base",
            "top": null,
            "grid_column": null,
            "overflow_y": null,
            "overflow_x": null,
            "grid_auto_flow": null,
            "grid_area": null,
            "grid_template_columns": null,
            "flex": null,
            "_model_name": "LayoutModel",
            "justify_items": null,
            "grid_row": null,
            "max_height": null,
            "align_content": null,
            "visibility": null,
            "align_self": null,
            "height": null,
            "min_height": null,
            "padding": null,
            "grid_auto_rows": null,
            "grid_gap": null,
            "max_width": null,
            "order": null,
            "_view_module_version": "1.2.0",
            "grid_template_areas": null,
            "object_position": null,
            "object_fit": null,
            "grid_auto_columns": null,
            "margin": null,
            "display": null,
            "left": null
          }
        },
        "20be55bb19e64aa9afd87b1fdbed2d94": {
          "model_module": "@jupyter-widgets/controls",
          "model_name": "DescriptionStyleModel",
          "model_module_version": "1.5.0",
          "state": {
            "_view_name": "StyleView",
            "_model_name": "DescriptionStyleModel",
            "description_width": "",
            "_view_module": "@jupyter-widgets/base",
            "_model_module_version": "1.5.0",
            "_view_count": null,
            "_view_module_version": "1.2.0",
            "_model_module": "@jupyter-widgets/controls"
          }
        },
        "c2bc9fb7586f4ad9be81be7748975e07": {
          "model_module": "@jupyter-widgets/base",
          "model_name": "LayoutModel",
          "model_module_version": "1.2.0",
          "state": {
            "_view_name": "LayoutView",
            "grid_template_rows": null,
            "right": null,
            "justify_content": null,
            "_view_module": "@jupyter-widgets/base",
            "overflow": null,
            "_model_module_version": "1.2.0",
            "_view_count": null,
            "flex_flow": null,
            "width": null,
            "min_width": null,
            "border": null,
            "align_items": null,
            "bottom": null,
            "_model_module": "@jupyter-widgets/base",
            "top": null,
            "grid_column": null,
            "overflow_y": null,
            "overflow_x": null,
            "grid_auto_flow": null,
            "grid_area": null,
            "grid_template_columns": null,
            "flex": null,
            "_model_name": "LayoutModel",
            "justify_items": null,
            "grid_row": null,
            "max_height": null,
            "align_content": null,
            "visibility": null,
            "align_self": null,
            "height": null,
            "min_height": null,
            "padding": null,
            "grid_auto_rows": null,
            "grid_gap": null,
            "max_width": null,
            "order": null,
            "_view_module_version": "1.2.0",
            "grid_template_areas": null,
            "object_position": null,
            "object_fit": null,
            "grid_auto_columns": null,
            "margin": null,
            "display": null,
            "left": null
          }
        }
      }
    }
  },
  "cells": [
    {
      "cell_type": "markdown",
      "metadata": {
        "id": "view-in-github",
        "colab_type": "text"
      },
      "source": [
        "<a href=\"https://colab.research.google.com/github/AhmedShaykhon/NU-Deep-Learning-Assignments/blob/master/Ahmed_Mostafa_Elsayed_Assignment_03_ConvNet.ipynb\" target=\"_parent\"><img src=\"https://colab.research.google.com/assets/colab-badge.svg\" alt=\"Open In Colab\"/></a>"
      ]
    },
    {
      "cell_type": "markdown",
      "metadata": {
        "id": "0kPebEAxih6H"
      },
      "source": [
        "# Deep Learning CIT690E Fall 2021\n",
        "## Assignment 3\n",
        "### Name: Ahmed Mostafa Elsayed Mohamed Shaykhon\n",
        "### ID: 202000371"
      ]
    },
    {
      "cell_type": "markdown",
      "metadata": {
        "id": "vfGRk3iviuoF"
      },
      "source": [
        "Q2) Python-Pytorch: Using MNIST dataset, compare in terms of the train and\n",
        "test accuracies of two different ConvNet models (kernel width 5, 32 filters) at:\n",
        "  • Stride of 1 and 2.\n",
        "  • Calculate the total number of parameters for each case.\n",
        "Q3) From the previous question, plot sample successful and failure cases, and\n",
        "try to explain the effect of changing the Stride size on the results."
      ]
    },
    {
      "cell_type": "code",
      "metadata": {
        "colab": {
          "base_uri": "https://localhost:8080/"
        },
        "id": "W7mHTM0Hjbf9",
        "outputId": "1dfdfb7f-7cc6-4589-c376-c978971d87cd"
      },
      "source": [
        "!pip install torch_summary"
      ],
      "execution_count": 1,
      "outputs": [
        {
          "output_type": "stream",
          "name": "stdout",
          "text": [
            "Collecting torch_summary\n",
            "  Downloading torch_summary-1.4.5-py3-none-any.whl (16 kB)\n",
            "Installing collected packages: torch-summary\n",
            "Successfully installed torch-summary-1.4.5\n"
          ]
        }
      ]
    },
    {
      "cell_type": "code",
      "metadata": {
        "id": "0YP25LpOcUUJ"
      },
      "source": [
        "import torch\n",
        "import torch.nn as nn\n",
        "import torch.nn.functional as F\n",
        "from torchvision.datasets import MNIST\n",
        "from torchvision import transforms\n",
        "from torchvision.utils import make_grid\n",
        "from torch.utils.data.dataloader import DataLoader\n",
        "from torch.utils.data import random_split\n",
        "from torchsummary import summary\n",
        "import numpy as np\n",
        "import matplotlib.pyplot as plt"
      ],
      "execution_count": 2,
      "outputs": []
    },
    {
      "cell_type": "code",
      "metadata": {
        "id": "r37RgtOJcjWQ"
      },
      "source": [
        "device = torch.device(\"cuda\" if torch.cuda.is_available() else \"cpu\")"
      ],
      "execution_count": 3,
      "outputs": []
    },
    {
      "cell_type": "code",
      "metadata": {
        "colab": {
          "base_uri": "https://localhost:8080/",
          "height": 475,
          "referenced_widgets": [
            "ab843a4dbb7c4b778871d641c1f1624a",
            "a7ed853c268046d8878b6ad8ffac4837",
            "cdc6209aa5654f00a56104567e43026b",
            "9c2c7ad5a5834fb4817b9f75fc8142c1",
            "924317d0090e49d3824c7d68216662e3",
            "1f3e3da82475466fbd75a308d91b31aa",
            "5a7773c02a9f4a9da5705aff705005f7",
            "0f18198464c4418a9a3d982b402495d9",
            "d99a11ae1f364330b8e05c978e750053",
            "9eaec41ecc934101aa653c9148163ef3",
            "1b367d1ef6e24170a2c63ce23ead2545",
            "4c08c73e101f4888baa98ea0bc9f1320",
            "121dc686543547b5929c41d189e1a2a6",
            "bdd83495d6fd4a77a8668ff44e630971",
            "7ebec8413d0d41f09de9145265ae4ef8",
            "8e041cdac6e54b15bc2006275228e86f",
            "5129988907144f45829b3f404d130b57",
            "06b03f3d290146a196dbdc03f00eaafd",
            "6dc211b47fe349d3a6d313efd6c5c558",
            "d8b27765bf4e4a0eae7b98378962d6a7",
            "0d71685e18bd4e8a8fcdbf9b4bb572e2",
            "ac60240d7400490fbd9ea8929b6be6b0",
            "7e580fc2a54e4f8399002ffdc6876e5c",
            "f79eb79a68934ae5b84d11afda3bcdb5",
            "19211abfcc7c402eba7e80cdea7c5f22",
            "201ba0b1802e42da94d03f00b5c3ae69",
            "455900a315bb4006b300f45a7202f55a",
            "1a66f4ebd19a4ca6a70a47a7d566d9b2",
            "470be5d72cee45ff8044305765c55ef6",
            "da7134a393114d09acb432abbaea0434",
            "a30f0768495f40dc8971e433d41b8ee4",
            "8a3214e8e0d248ffbcfae8c7b8a38826",
            "d47d7231eed44979b9c1246405d1693c",
            "8677e90582ab46e5837b438bda1f431e",
            "c8368e27a2fb40b39745aa31c11a7f21",
            "a9b08ba52a934f03a0741020266936ed",
            "3443529b195e4581a898ed38f3b2d75c",
            "84831c77a5d844288f3148a49a9e7f9e",
            "051ef138014b4e78a86c133f2faffb88",
            "e788b81bf4184b33aa6bd15d84833ebc",
            "a337befc11694a7abaf23cab7b30d43a",
            "6931d384cce549048810ab7389cd37e1",
            "20be55bb19e64aa9afd87b1fdbed2d94",
            "c2bc9fb7586f4ad9be81be7748975e07"
          ]
        },
        "id": "u7lHna5INQpC",
        "outputId": "be9a77bf-771c-4e46-ded9-3bb8ee46a591"
      },
      "source": [
        "train_data = MNIST(root='./data', train=True, download=True, transform=transforms.Compose([transforms.ToTensor()]))\n",
        "val_test_data = MNIST(root='./data', train=False, download=True, transform=transforms.Compose([transforms.ToTensor()]))\n",
        "\n",
        "val_data, test_data = random_split(val_test_data, [int(0.8 * len(val_test_data)), int(0.2 * len(val_test_data))])\n",
        "\n",
        "train_loader = DataLoader(train_data, batch_size=128, shuffle=True, pin_memory=True)\n",
        "val_loader = DataLoader(val_data, batch_size=64, shuffle=False, pin_memory=True)\n",
        "test_loader = DataLoader(test_data, batch_size=64, shuffle=False, pin_memory=True)\n",
        "\n",
        "print(\"Training dataset size: \", len(train_data))\n",
        "print(\"Validation dataset size: \", len(val_data))\n",
        "print(\"Testing dataset size: \", len(test_data))"
      ],
      "execution_count": 4,
      "outputs": [
        {
          "output_type": "stream",
          "name": "stdout",
          "text": [
            "Downloading http://yann.lecun.com/exdb/mnist/train-images-idx3-ubyte.gz\n",
            "Downloading http://yann.lecun.com/exdb/mnist/train-images-idx3-ubyte.gz to ./data/MNIST/raw/train-images-idx3-ubyte.gz\n"
          ]
        },
        {
          "output_type": "display_data",
          "data": {
            "application/vnd.jupyter.widget-view+json": {
              "model_id": "ab843a4dbb7c4b778871d641c1f1624a",
              "version_minor": 0,
              "version_major": 2
            },
            "text/plain": [
              "  0%|          | 0/9912422 [00:00<?, ?it/s]"
            ]
          },
          "metadata": {}
        },
        {
          "output_type": "stream",
          "name": "stdout",
          "text": [
            "Extracting ./data/MNIST/raw/train-images-idx3-ubyte.gz to ./data/MNIST/raw\n",
            "\n",
            "Downloading http://yann.lecun.com/exdb/mnist/train-labels-idx1-ubyte.gz\n",
            "Downloading http://yann.lecun.com/exdb/mnist/train-labels-idx1-ubyte.gz to ./data/MNIST/raw/train-labels-idx1-ubyte.gz\n"
          ]
        },
        {
          "output_type": "display_data",
          "data": {
            "application/vnd.jupyter.widget-view+json": {
              "model_id": "4c08c73e101f4888baa98ea0bc9f1320",
              "version_minor": 0,
              "version_major": 2
            },
            "text/plain": [
              "  0%|          | 0/28881 [00:00<?, ?it/s]"
            ]
          },
          "metadata": {}
        },
        {
          "output_type": "stream",
          "name": "stdout",
          "text": [
            "Extracting ./data/MNIST/raw/train-labels-idx1-ubyte.gz to ./data/MNIST/raw\n",
            "\n",
            "Downloading http://yann.lecun.com/exdb/mnist/t10k-images-idx3-ubyte.gz\n",
            "Downloading http://yann.lecun.com/exdb/mnist/t10k-images-idx3-ubyte.gz to ./data/MNIST/raw/t10k-images-idx3-ubyte.gz\n"
          ]
        },
        {
          "output_type": "display_data",
          "data": {
            "application/vnd.jupyter.widget-view+json": {
              "model_id": "7e580fc2a54e4f8399002ffdc6876e5c",
              "version_minor": 0,
              "version_major": 2
            },
            "text/plain": [
              "  0%|          | 0/1648877 [00:00<?, ?it/s]"
            ]
          },
          "metadata": {}
        },
        {
          "output_type": "stream",
          "name": "stdout",
          "text": [
            "Extracting ./data/MNIST/raw/t10k-images-idx3-ubyte.gz to ./data/MNIST/raw\n",
            "\n",
            "Downloading http://yann.lecun.com/exdb/mnist/t10k-labels-idx1-ubyte.gz\n",
            "Downloading http://yann.lecun.com/exdb/mnist/t10k-labels-idx1-ubyte.gz to ./data/MNIST/raw/t10k-labels-idx1-ubyte.gz\n"
          ]
        },
        {
          "output_type": "display_data",
          "data": {
            "application/vnd.jupyter.widget-view+json": {
              "model_id": "8677e90582ab46e5837b438bda1f431e",
              "version_minor": 0,
              "version_major": 2
            },
            "text/plain": [
              "  0%|          | 0/4542 [00:00<?, ?it/s]"
            ]
          },
          "metadata": {}
        },
        {
          "output_type": "stream",
          "name": "stdout",
          "text": [
            "Extracting ./data/MNIST/raw/t10k-labels-idx1-ubyte.gz to ./data/MNIST/raw\n",
            "\n",
            "Training dataset size:  60000\n",
            "Validation dataset size:  8000\n",
            "Testing dataset size:  2000\n"
          ]
        }
      ]
    },
    {
      "cell_type": "code",
      "metadata": {
        "colab": {
          "base_uri": "https://localhost:8080/",
          "height": 551
        },
        "id": "UvRdUUHAdOa-",
        "outputId": "e5c0aee4-51bd-48ca-92ad-6238cb4a2884"
      },
      "source": [
        "examples = enumerate(train_loader)\n",
        "batch_idx, (example_data, example_targets) = next(examples)\n",
        "\n",
        "fig = plt.figure()\n",
        "for i in range(6):\n",
        "  plt.subplot(2,3,i+1)\n",
        "  plt.tight_layout()\n",
        "  plt.imshow(example_data[i][0], cmap='gray', interpolation='none')\n",
        "  plt.title(\"Ground Truth: {}\".format(example_targets[i]))\n",
        "  plt.xticks([])\n",
        "  plt.yticks([])\n",
        "fig"
      ],
      "execution_count": 5,
      "outputs": [
        {
          "output_type": "execute_result",
          "data": {
            "image/png": "[encoded data removed]",
            "text/plain": [
              "<Figure size 432x288 with 6 Axes>"
            ]
          },
          "metadata": {},
          "execution_count": 5
        },
        {
          "output_type": "display_data",
          "data": {
            "image/png": "[encoded data removed]",
            "text/plain": [
              "<Figure size 432x288 with 6 Axes>"
            ]
          },
          "metadata": {}
        }
      ]
    },
    {
      "cell_type": "code",
      "metadata": {
        "id": "QyU2t8PWeWgO"
      },
      "source": [
        "# Method 1 stride = 1\n",
        "class CNN1(nn.Module):\n",
        "    \"\"\"Simple Convolutional Neural Network\"\"\"\n",
        "    def __init__(self):\n",
        "        super().__init__()\n",
        "\n",
        "        # Create Convolutional Layers\n",
        "        self.conv1 = nn.Conv2d(in_channels=1, out_channels=32, kernel_size=5, stride=1) # assume pading = 0\n",
        "        self.conv2 = nn.Conv2d(in_channels=32, out_channels=32, kernel_size=5, stride=1) # assume pading = 0\n",
        "\n",
        "        # Create Max Pooling Layer\n",
        "        self.max_pool2d = torch.nn.MaxPool2d(kernel_size=2, stride=2)\n",
        "\n",
        "        # Create Fully Connected Layers\n",
        "        self.fc1 = nn.Linear(512, 128) # image size from the second maxpol function is 4x4 then input size here shall be 4*4*32 = 512\n",
        "        self.fc2 = nn.Linear(128, 10)\n",
        "        \n",
        "    def forward(self, input_image):\n",
        "        # Convolution, ReLu and MaxPooling\n",
        "        output = self.conv1(input_image) # number of paramters will be 5x5x32 and output image size will be 28 - 5 + 1 = 24\n",
        "        output = F.relu(output) # apply relu activation function\n",
        "        output = self.max_pool2d(output) # apply maxpol with kernal=2 and stride=2 will reduce image size from 24 to (24 - 2 + 2) / 2 = 12\n",
        "\n",
        "        output = self.conv2(output) # number of paramters will be 5x5x12 and output image size will be 12 - 5 + 1 = 8\n",
        "        output = F.relu(output) # apply relu activation function\n",
        "        output = self.max_pool2d(output) # apply maxpol with kernal=2 and stride=2 will reduce image size from 8 to (8 - 2 + 2) / 2 = 4\n",
        "\n",
        "        # Flatten\n",
        "        output = output.view(-1, self.num_flat_features(output))\n",
        "        \n",
        "        # Fully Connected\n",
        "        output = self.fc1(output)\n",
        "        output = F.relu(output)\n",
        "        output = self.fc2(output)\n",
        "\n",
        "        return output\n",
        "\n",
        "    def num_flat_features(self, image):\n",
        "      size = image.size()[1:]\n",
        "      num_features = 1\n",
        "      for s in size:\n",
        "          num_features *= s\n",
        "          \n",
        "      return num_features"
      ],
      "execution_count": 6,
      "outputs": []
    },
    {
      "cell_type": "code",
      "metadata": {
        "colab": {
          "base_uri": "https://localhost:8080/"
        },
        "id": "DTK-ltQlmSft",
        "outputId": "b19c6085-36e3-49e2-9080-df97eed6e843"
      },
      "source": [
        "input_size = 784\n",
        "num_classes = 10\n",
        "\n",
        "model = CNN1()\n",
        "criterion = nn.CrossEntropyLoss()\n",
        "optimizer = torch.optim.Adam(model.parameters(), lr=0.001)\n",
        "\n",
        "if (torch.cuda.is_available()):\n",
        "    model.cuda()\n",
        "model"
      ],
      "execution_count": 7,
      "outputs": [
        {
          "output_type": "execute_result",
          "data": {
            "text/plain": [
              "CNN1(\n",
              "  (conv1): Conv2d(1, 32, kernel_size=(5, 5), stride=(1, 1))\n",
              "  (conv2): Conv2d(32, 32, kernel_size=(5, 5), stride=(1, 1))\n",
              "  (max_pool2d): MaxPool2d(kernel_size=2, stride=2, padding=0, dilation=1, ceil_mode=False)\n",
              "  (fc1): Linear(in_features=512, out_features=128, bias=True)\n",
              "  (fc2): Linear(in_features=128, out_features=10, bias=True)\n",
              ")"
            ]
          },
          "metadata": {},
          "execution_count": 7
        }
      ]
    },
    {
      "cell_type": "code",
      "metadata": {
        "colab": {
          "base_uri": "https://localhost:8080/"
        },
        "id": "cYuBD3ygHZkx",
        "outputId": "08203f20-29e5-46bb-eda0-b8a173aba1cb"
      },
      "source": [
        "summary(model, torch.zeros(1,1,28,28)) # total number of paramters is 93418"
      ],
      "execution_count": 8,
      "outputs": [
        {
          "output_type": "stream",
          "name": "stdout",
          "text": [
            "==========================================================================================\n",
            "Layer (type:depth-idx)                   Output Shape              Param #\n",
            "==========================================================================================\n",
            "├─Conv2d: 1-1                            [-1, 32, 24, 24]          832\n",
            "├─MaxPool2d: 1-2                         [-1, 32, 12, 12]          --\n",
            "├─Conv2d: 1-3                            [-1, 32, 8, 8]            25,632\n",
            "├─MaxPool2d: 1-4                         [-1, 32, 4, 4]            --\n",
            "├─Linear: 1-5                            [-1, 128]                 65,664\n",
            "├─Linear: 1-6                            [-1, 10]                  1,290\n",
            "==========================================================================================\n",
            "Total params: 93,418\n",
            "Trainable params: 93,418\n",
            "Non-trainable params: 0\n",
            "Total mult-adds (M): 2.17\n",
            "==========================================================================================\n",
            "Input size (MB): 0.00\n",
            "Forward/backward pass size (MB): 0.16\n",
            "Params size (MB): 0.36\n",
            "Estimated Total Size (MB): 0.52\n",
            "==========================================================================================\n"
          ]
        },
        {
          "output_type": "execute_result",
          "data": {
            "text/plain": [
              "==========================================================================================\n",
              "Layer (type:depth-idx)                   Output Shape              Param #\n",
              "==========================================================================================\n",
              "├─Conv2d: 1-1                            [-1, 32, 24, 24]          832\n",
              "├─MaxPool2d: 1-2                         [-1, 32, 12, 12]          --\n",
              "├─Conv2d: 1-3                            [-1, 32, 8, 8]            25,632\n",
              "├─MaxPool2d: 1-4                         [-1, 32, 4, 4]            --\n",
              "├─Linear: 1-5                            [-1, 128]                 65,664\n",
              "├─Linear: 1-6                            [-1, 10]                  1,290\n",
              "==========================================================================================\n",
              "Total params: 93,418\n",
              "Trainable params: 93,418\n",
              "Non-trainable params: 0\n",
              "Total mult-adds (M): 2.17\n",
              "==========================================================================================\n",
              "Input size (MB): 0.00\n",
              "Forward/backward pass size (MB): 0.16\n",
              "Params size (MB): 0.36\n",
              "Estimated Total Size (MB): 0.52\n",
              "=========================================================================================="
            ]
          },
          "metadata": {},
          "execution_count": 8
        }
      ]
    },
    {
      "cell_type": "code",
      "metadata": {
        "id": "umRSh8qJTyGc"
      },
      "source": [
        "no_epochs = 20\n",
        "train_loss = list()\n",
        "val_loss = list()\n",
        "best_val_loss = 1"
      ],
      "execution_count": 9,
      "outputs": []
    },
    {
      "cell_type": "code",
      "metadata": {
        "colab": {
          "base_uri": "https://localhost:8080/",
          "height": 1000
        },
        "id": "Z-6TrtM096Io",
        "outputId": "a126796e-5648-4ec6-daa8-d8ee042aa0ee"
      },
      "source": [
        "for epoch in range(no_epochs):\n",
        "    total_train_loss = 0\n",
        "    total_val_loss = 0\n",
        "\n",
        "    model.train()\n",
        "    # training\n",
        "    for itr, (image, label) in enumerate(train_loader):\n",
        "\n",
        "        if (torch.cuda.is_available()):\n",
        "            image = image.cuda()\n",
        "            label = label.cuda()\n",
        "\n",
        "        optimizer.zero_grad()\n",
        "\n",
        "        pred = model(image)\n",
        "\n",
        "        loss = criterion(pred, label)\n",
        "        total_train_loss += loss.item()\n",
        "\n",
        "        loss.backward()\n",
        "        optimizer.step()\n",
        "\n",
        "    total_train_loss = total_train_loss / (itr + 1)\n",
        "    train_loss.append(total_train_loss)\n",
        "\n",
        "    # validation\n",
        "    model.eval()\n",
        "    total = 0\n",
        "    for itr, (image, label) in enumerate(val_loader):\n",
        "\n",
        "        if (torch.cuda.is_available()):\n",
        "            image = image.cuda()\n",
        "            label = label.cuda()\n",
        "\n",
        "        pred = model(image)\n",
        "\n",
        "        loss = criterion(pred, label)\n",
        "        total_val_loss += loss.item()\n",
        "\n",
        "        pred = F.softmax(pred, dim=1)\n",
        "        for i, p in enumerate(pred):\n",
        "            if label[i] == torch.max(p.data, 0)[1]:\n",
        "                total = total + 1\n",
        "\n",
        "    accuracy = total / len(val_data)\n",
        "\n",
        "    total_val_loss = total_val_loss / (itr + 1)\n",
        "    val_loss.append(total_val_loss)\n",
        "\n",
        "    print('\\nEpoch: {}/{}, Train Loss: {:.8f}, Val Loss: {:.8f}, Val Accuracy: {:.8f}'.format(epoch + 1, no_epochs, total_train_loss, total_val_loss, accuracy))\n",
        "\n",
        "    if total_val_loss < best_val_loss:\n",
        "        best_val_loss = total_val_loss\n",
        "        print(\"Saving the model state dictionary for Epoch: {} with Validation loss: {:.8f}\".format(epoch + 1, total_val_loss))\n",
        "        torch.save(model.state_dict(), \"model.dth\")\n",
        "\n",
        "fig=plt.figure(figsize=(20, 10))\n",
        "plt.plot(np.arange(1, no_epochs+1), train_loss, label=\"Train loss\")\n",
        "plt.plot(np.arange(1, no_epochs+1), val_loss, label=\"Validation loss\")\n",
        "plt.xlabel('Loss')\n",
        "plt.ylabel('Epochs')\n",
        "plt.title(\"Loss Plots\")\n",
        "plt.legend(loc='upper right')\n",
        "plt.show()"
      ],
      "execution_count": 10,
      "outputs": [
        {
          "output_type": "stream",
          "name": "stdout",
          "text": [
            "\n",
            "Epoch: 1/20, Train Loss: 0.23784620, Val Loss: 0.06430196, Val Accuracy: 0.97950000\n",
            "Saving the model state dictionary for Epoch: 1 with Validation loss: 0.06430196\n",
            "\n",
            "Epoch: 2/20, Train Loss: 0.06208301, Val Loss: 0.04701504, Val Accuracy: 0.98425000\n",
            "Saving the model state dictionary for Epoch: 2 with Validation loss: 0.04701504\n",
            "\n",
            "Epoch: 3/20, Train Loss: 0.04437537, Val Loss: 0.03540099, Val Accuracy: 0.98825000\n",
            "Saving the model state dictionary for Epoch: 3 with Validation loss: 0.03540099\n",
            "\n",
            "Epoch: 4/20, Train Loss: 0.03354926, Val Loss: 0.03510486, Val Accuracy: 0.98787500\n",
            "Saving the model state dictionary for Epoch: 4 with Validation loss: 0.03510486\n",
            "\n",
            "Epoch: 5/20, Train Loss: 0.02758848, Val Loss: 0.02772940, Val Accuracy: 0.99162500\n",
            "Saving the model state dictionary for Epoch: 5 with Validation loss: 0.02772940\n",
            "\n",
            "Epoch: 6/20, Train Loss: 0.02341163, Val Loss: 0.03997972, Val Accuracy: 0.98812500\n",
            "\n",
            "Epoch: 7/20, Train Loss: 0.01931001, Val Loss: 0.03174630, Val Accuracy: 0.99012500\n",
            "\n",
            "Epoch: 8/20, Train Loss: 0.01520851, Val Loss: 0.03033573, Val Accuracy: 0.99100000\n",
            "\n",
            "Epoch: 9/20, Train Loss: 0.01368682, Val Loss: 0.03438738, Val Accuracy: 0.98987500\n",
            "\n",
            "Epoch: 10/20, Train Loss: 0.01048545, Val Loss: 0.02753747, Val Accuracy: 0.99137500\n",
            "Saving the model state dictionary for Epoch: 10 with Validation loss: 0.02753747\n",
            "\n",
            "Epoch: 11/20, Train Loss: 0.01025760, Val Loss: 0.03161843, Val Accuracy: 0.99162500\n",
            "\n",
            "Epoch: 12/20, Train Loss: 0.00966365, Val Loss: 0.03455845, Val Accuracy: 0.99075000\n",
            "\n",
            "Epoch: 13/20, Train Loss: 0.00849928, Val Loss: 0.03438824, Val Accuracy: 0.99087500\n",
            "\n",
            "Epoch: 14/20, Train Loss: 0.00602547, Val Loss: 0.03576848, Val Accuracy: 0.99112500\n",
            "\n",
            "Epoch: 15/20, Train Loss: 0.00675477, Val Loss: 0.03326523, Val Accuracy: 0.99125000\n",
            "\n",
            "Epoch: 16/20, Train Loss: 0.00498071, Val Loss: 0.03052945, Val Accuracy: 0.99250000\n",
            "\n",
            "Epoch: 17/20, Train Loss: 0.00518920, Val Loss: 0.03378081, Val Accuracy: 0.99162500\n",
            "\n",
            "Epoch: 18/20, Train Loss: 0.00491551, Val Loss: 0.04149604, Val Accuracy: 0.99187500\n",
            "\n",
            "Epoch: 19/20, Train Loss: 0.00592984, Val Loss: 0.03804708, Val Accuracy: 0.99187500\n",
            "\n",
            "Epoch: 20/20, Train Loss: 0.00374960, Val Loss: 0.04767104, Val Accuracy: 0.98975000\n"
          ]
        },
        {
          "output_type": "display_data",
          "data": {
            "image/png": "[encoded data removed]",
            "text/plain": [
              "<Figure size 1440x720 with 1 Axes>"
            ]
          },
          "metadata": {
            "needs_background": "light"
          }
        }
      ]
    },
    {
      "cell_type": "code",
      "metadata": {
        "colab": {
          "base_uri": "https://localhost:8080/"
        },
        "id": "Ghr_7s55VYHi",
        "outputId": "ebf9e879-ff8e-4d3f-fb71-eccc51c38b20"
      },
      "source": [
        "# test model\n",
        "model.load_state_dict(torch.load(\"model.dth\"))\n",
        "model.eval()\n",
        "\n",
        "# store correct predictions\n",
        "correct_results = list()\n",
        "# store wrong predictions\n",
        "wrong_results = list()\n",
        "total = 0\n",
        "for itr, (image, label) in enumerate(test_loader):\n",
        "\n",
        "    if (torch.cuda.is_available()):\n",
        "        image = image.cuda()\n",
        "        label = label.cuda()\n",
        "\n",
        "    pred = model(image)\n",
        "    pred = F.softmax(pred, dim=1)\n",
        "\n",
        "    for i, p in enumerate(pred):\n",
        "        if label[i] == torch.max(p.data, 0)[1]:\n",
        "            total = total + 1\n",
        "            correct_results.append((image, torch.max(p.data, 0)[1]))\n",
        "\n",
        "        else:\n",
        "          wrong_results.append((image, torch.max(p.data, 0)[1]))\n",
        "\n",
        "test_accuracy = total / len(test_data)\n",
        "print('Test accuracy {:.8f}'.format(test_accuracy))"
      ],
      "execution_count": 11,
      "outputs": [
        {
          "output_type": "stream",
          "name": "stdout",
          "text": [
            "Test accuracy 0.99200000\n"
          ]
        }
      ]
    },
    {
      "cell_type": "code",
      "metadata": {
        "colab": {
          "base_uri": "https://localhost:8080/",
          "height": 553
        },
        "id": "NGnNNvLW9-b4",
        "outputId": "477eea50-91d1-44e6-f4ad-d75f99f50e57"
      },
      "source": [
        "# visualize correct results\n",
        "fig=plt.figure(figsize=(20, 10))\n",
        "for i in range(1, min(11, len(correct_results))):\n",
        "    img = transforms.ToPILImage(mode='L')(correct_results[0][0][i])\n",
        "    fig.add_subplot(2, 5, i)\n",
        "    plt.title(correct_results[i][1].item())\n",
        "    plt.imshow(img, cmap='gray', interpolation='none')\n",
        "plt.show()"
      ],
      "execution_count": 12,
      "outputs": [
        {
          "output_type": "display_data",
          "data": {
            "image/png": "[encoded data removed]",
            "text/plain": [
              "<Figure size 1440x720 with 10 Axes>"
            ]
          },
          "metadata": {
            "needs_background": "light"
          }
        }
      ]
    },
    {
      "cell_type": "code",
      "metadata": {
        "colab": {
          "base_uri": "https://localhost:8080/",
          "height": 553
        },
        "id": "LDNXCKmH-CxI",
        "outputId": "0451f497-1bd2-40a5-f8d7-bc517d590efa"
      },
      "source": [
        "# visualize wrong results\n",
        "fig=plt.figure(figsize=(20, 10))\n",
        "for i in range(1, min(11, len(wrong_results))):\n",
        "    img = transforms.ToPILImage(mode='L')(wrong_results[0][0][i])\n",
        "    fig.add_subplot(2, 5, i)\n",
        "    plt.title(wrong_results[i][1].item())\n",
        "    plt.imshow(img, cmap='gray', interpolation='none')\n",
        "plt.show()"
      ],
      "execution_count": 13,
      "outputs": [
        {
          "output_type": "display_data",
          "data": {
            "image/png": "[encoded data removed]",
            "text/plain": [
              "<Figure size 1440x720 with 10 Axes>"
            ]
          },
          "metadata": {
            "needs_background": "light"
          }
        }
      ]
    },
    {
      "cell_type": "code",
      "metadata": {
        "id": "xSSSecPym362"
      },
      "source": [
        "# Method 2 stride = 2\n",
        "class CNN2(nn.Module):\n",
        "    \"\"\"Simple Convolutional Neural Network\"\"\"\n",
        "    def __init__(self):\n",
        "        super().__init__()\n",
        "\n",
        "        # Create Convolutional Layers\n",
        "        self.conv1 = nn.Conv2d(in_channels=1, out_channels=32, kernel_size=5, stride=2, padding= 1) # assume pading = 1\n",
        "        self.conv2 = nn.Conv2d(in_channels=32, out_channels=32, kernel_size=5, stride=2, padding= 1) # assume pading = 1\n",
        "\n",
        "        # Create Max Pooling Layer\n",
        "        self.max_pool2d = torch.nn.MaxPool2d(kernel_size=2, stride=2)\n",
        "\n",
        "        # Create Fully Connected Layers\n",
        "        self.fc1 = nn.Linear(32, 128) # image size from the maxpol function is 1x1 then input size here shall be 1*1*32 = 32\n",
        "        self.fc2 = nn.Linear(128, 10)\n",
        "        \n",
        "    def forward(self, input_image):\n",
        "        # Convolution, ReLu and MaxPooling\n",
        "        output = self.conv1(input_image) # number of paramters will be 5x5x32 and output image size will be (28 - 5)/2 + 1 = 12.5 = 13\n",
        "        output = F.relu(output) # apply relu activation function\n",
        "        output = self.max_pool2d(output) # apply maxpol with kernal=2 and stride=2 will reduce image size from 13 to (13 - 2 + 2) / 2 = 6\n",
        "\n",
        "        output = self.conv2(output) # number of paramters will be 5x5x6 and output image size will be 6 - 5 + 1 = 8\n",
        "        output = F.relu(output) # apply relu activation function\n",
        "        output = self.max_pool2d(output) # apply maxpol with kernal=2 and stride=2 will reduce image size from 6 to (6 - 2 + 2) / 2 = 3\n",
        "\n",
        "        # Flatten\n",
        "        output = output.view(-1, self.num_flat_features(output))\n",
        "        \n",
        "        # Fully Connected\n",
        "        output = self.fc1(output)\n",
        "        output = F.relu(output)\n",
        "        output = self.fc2(output)\n",
        "\n",
        "        return output\n",
        "\n",
        "    def num_flat_features(self, image):\n",
        "      size = image.size()[1:]\n",
        "      num_features = 1\n",
        "      for s in size:\n",
        "          num_features *= s\n",
        "          \n",
        "      return num_features\n"
      ],
      "execution_count": 14,
      "outputs": []
    },
    {
      "cell_type": "code",
      "metadata": {
        "colab": {
          "base_uri": "https://localhost:8080/"
        },
        "id": "yini1a7tX5o8",
        "outputId": "c12cab75-524d-476a-c9cb-052e1124a77c"
      },
      "source": [
        "input_size = 784\n",
        "num_classes = 10\n",
        "\n",
        "model = CNN2()\n",
        "criterion = torch.nn.CrossEntropyLoss()\n",
        "optimizer = torch.optim.Adam(model.parameters(), lr=0.001)\n",
        "\n",
        "if (torch.cuda.is_available()):\n",
        "    model.cuda()\n",
        "model"
      ],
      "execution_count": 15,
      "outputs": [
        {
          "output_type": "execute_result",
          "data": {
            "text/plain": [
              "CNN2(\n",
              "  (conv1): Conv2d(1, 32, kernel_size=(5, 5), stride=(2, 2), padding=(1, 1))\n",
              "  (conv2): Conv2d(32, 32, kernel_size=(5, 5), stride=(2, 2), padding=(1, 1))\n",
              "  (max_pool2d): MaxPool2d(kernel_size=2, stride=2, padding=0, dilation=1, ceil_mode=False)\n",
              "  (fc1): Linear(in_features=32, out_features=128, bias=True)\n",
              "  (fc2): Linear(in_features=128, out_features=10, bias=True)\n",
              ")"
            ]
          },
          "metadata": {},
          "execution_count": 15
        }
      ]
    },
    {
      "cell_type": "code",
      "metadata": {
        "colab": {
          "base_uri": "https://localhost:8080/"
        },
        "id": "xZYaKfmNX6h7",
        "outputId": "dcfe2c80-8415-40ec-cc43-b167dbd4d4c5"
      },
      "source": [
        "summary(model, torch.zeros(1,1,28,28)) # total number of paramters is 31978"
      ],
      "execution_count": 16,
      "outputs": [
        {
          "output_type": "stream",
          "name": "stdout",
          "text": [
            "==========================================================================================\n",
            "Layer (type:depth-idx)                   Output Shape              Param #\n",
            "==========================================================================================\n",
            "├─Conv2d: 1-1                            [-1, 32, 13, 13]          832\n",
            "├─MaxPool2d: 1-2                         [-1, 32, 6, 6]            --\n",
            "├─Conv2d: 1-3                            [-1, 32, 2, 2]            25,632\n",
            "├─MaxPool2d: 1-4                         [-1, 32, 1, 1]            --\n",
            "├─Linear: 1-5                            [-1, 128]                 4,224\n",
            "├─Linear: 1-6                            [-1, 10]                  1,290\n",
            "==========================================================================================\n",
            "Total params: 31,978\n",
            "Trainable params: 31,978\n",
            "Non-trainable params: 0\n",
            "Total mult-adds (M): 0.24\n",
            "==========================================================================================\n",
            "Input size (MB): 0.00\n",
            "Forward/backward pass size (MB): 0.04\n",
            "Params size (MB): 0.12\n",
            "Estimated Total Size (MB): 0.17\n",
            "==========================================================================================\n"
          ]
        },
        {
          "output_type": "execute_result",
          "data": {
            "text/plain": [
              "==========================================================================================\n",
              "Layer (type:depth-idx)                   Output Shape              Param #\n",
              "==========================================================================================\n",
              "├─Conv2d: 1-1                            [-1, 32, 13, 13]          832\n",
              "├─MaxPool2d: 1-2                         [-1, 32, 6, 6]            --\n",
              "├─Conv2d: 1-3                            [-1, 32, 2, 2]            25,632\n",
              "├─MaxPool2d: 1-4                         [-1, 32, 1, 1]            --\n",
              "├─Linear: 1-5                            [-1, 128]                 4,224\n",
              "├─Linear: 1-6                            [-1, 10]                  1,290\n",
              "==========================================================================================\n",
              "Total params: 31,978\n",
              "Trainable params: 31,978\n",
              "Non-trainable params: 0\n",
              "Total mult-adds (M): 0.24\n",
              "==========================================================================================\n",
              "Input size (MB): 0.00\n",
              "Forward/backward pass size (MB): 0.04\n",
              "Params size (MB): 0.12\n",
              "Estimated Total Size (MB): 0.17\n",
              "=========================================================================================="
            ]
          },
          "metadata": {},
          "execution_count": 16
        }
      ]
    },
    {
      "cell_type": "code",
      "metadata": {
        "id": "TifE5t_kaVlH"
      },
      "source": [
        "no_epochs = 20\n",
        "train_loss = list()\n",
        "val_loss = list()\n",
        "best_val_loss = 1"
      ],
      "execution_count": 17,
      "outputs": []
    },
    {
      "cell_type": "code",
      "metadata": {
        "colab": {
          "base_uri": "https://localhost:8080/",
          "height": 1000
        },
        "id": "f_t4lLkDgXHM",
        "outputId": "0e796d3a-bc51-41e3-b59b-26f59308e675"
      },
      "source": [
        "for epoch in range(no_epochs):\n",
        "    total_train_loss = 0\n",
        "    total_val_loss = 0\n",
        "\n",
        "    model.train()\n",
        "    # training\n",
        "    for itr, (image, label) in enumerate(train_loader):\n",
        "\n",
        "        if (torch.cuda.is_available()):\n",
        "            image = image.cuda()\n",
        "            label = label.cuda()\n",
        "\n",
        "        optimizer.zero_grad()\n",
        "\n",
        "        pred = model(image)\n",
        "\n",
        "        loss = criterion(pred, label)\n",
        "        total_train_loss += loss.item()\n",
        "\n",
        "        loss.backward()\n",
        "        optimizer.step()\n",
        "\n",
        "    total_train_loss = total_train_loss / (itr + 1)\n",
        "    train_loss.append(total_train_loss)\n",
        "\n",
        "    # validation\n",
        "    model.eval()\n",
        "    total = 0\n",
        "    for itr, (image, label) in enumerate(val_loader):\n",
        "\n",
        "        if (torch.cuda.is_available()):\n",
        "            image = image.cuda()\n",
        "            label = label.cuda()\n",
        "\n",
        "        pred = model(image)\n",
        "\n",
        "        loss = criterion(pred, label)\n",
        "        total_val_loss += loss.item()\n",
        "\n",
        "        pred = F.softmax(pred, dim=1)\n",
        "        for i, p in enumerate(pred):\n",
        "            if label[i] == torch.max(p.data, 0)[1]:\n",
        "                total = total + 1\n",
        "\n",
        "    accuracy = total / len(val_data)\n",
        "\n",
        "    total_val_loss = total_val_loss / (itr + 1)\n",
        "    val_loss.append(total_val_loss)\n",
        "\n",
        "    print('\\nEpoch: {}/{}, Train Loss: {:.8f}, Val Loss: {:.8f}, Val Accuracy: {:.8f}'.format(epoch + 1, no_epochs, total_train_loss, total_val_loss, accuracy))\n",
        "\n",
        "    if total_val_loss < best_val_loss:\n",
        "        best_val_loss = total_val_loss\n",
        "        print(\"Saving the model state dictionary for Epoch: {} with Validation loss: {:.8f}\".format(epoch + 1, total_val_loss))\n",
        "        torch.save(model.state_dict(), \"model.dth\")\n",
        "\n",
        "fig=plt.figure(figsize=(20, 10))\n",
        "plt.plot(np.arange(1, no_epochs+1), train_loss, label=\"Train loss\")\n",
        "plt.plot(np.arange(1, no_epochs+1), val_loss, label=\"Validation loss\")\n",
        "plt.xlabel('Loss')\n",
        "plt.ylabel('Epochs')\n",
        "plt.title(\"Loss Plots\")\n",
        "plt.legend(loc='upper right')\n",
        "plt.show()"
      ],
      "execution_count": 18,
      "outputs": [
        {
          "output_type": "stream",
          "name": "stdout",
          "text": [
            "\n",
            "Epoch: 1/20, Train Loss: 0.40724603, Val Loss: 0.10814979, Val Accuracy: 0.96775000\n",
            "Saving the model state dictionary for Epoch: 1 with Validation loss: 0.10814979\n",
            "\n",
            "Epoch: 2/20, Train Loss: 0.10404238, Val Loss: 0.07576240, Val Accuracy: 0.97800000\n",
            "Saving the model state dictionary for Epoch: 2 with Validation loss: 0.07576240\n",
            "\n",
            "Epoch: 3/20, Train Loss: 0.07317734, Val Loss: 0.06641405, Val Accuracy: 0.97912500\n",
            "Saving the model state dictionary for Epoch: 3 with Validation loss: 0.06641405\n",
            "\n",
            "Epoch: 4/20, Train Loss: 0.05802601, Val Loss: 0.05145175, Val Accuracy: 0.98387500\n",
            "Saving the model state dictionary for Epoch: 4 with Validation loss: 0.05145175\n",
            "\n",
            "Epoch: 5/20, Train Loss: 0.05078727, Val Loss: 0.05255774, Val Accuracy: 0.98400000\n",
            "\n",
            "Epoch: 6/20, Train Loss: 0.04209165, Val Loss: 0.04729540, Val Accuracy: 0.98425000\n",
            "Saving the model state dictionary for Epoch: 6 with Validation loss: 0.04729540\n",
            "\n",
            "Epoch: 7/20, Train Loss: 0.03799185, Val Loss: 0.04292710, Val Accuracy: 0.98550000\n",
            "Saving the model state dictionary for Epoch: 7 with Validation loss: 0.04292710\n",
            "\n",
            "Epoch: 8/20, Train Loss: 0.03376132, Val Loss: 0.04286041, Val Accuracy: 0.98525000\n",
            "Saving the model state dictionary for Epoch: 8 with Validation loss: 0.04286041\n",
            "\n",
            "Epoch: 9/20, Train Loss: 0.02939949, Val Loss: 0.04379459, Val Accuracy: 0.98612500\n",
            "\n",
            "Epoch: 10/20, Train Loss: 0.02659973, Val Loss: 0.04169566, Val Accuracy: 0.98687500\n",
            "Saving the model state dictionary for Epoch: 10 with Validation loss: 0.04169566\n",
            "\n",
            "Epoch: 11/20, Train Loss: 0.02337485, Val Loss: 0.04866750, Val Accuracy: 0.98525000\n",
            "\n",
            "Epoch: 12/20, Train Loss: 0.02006959, Val Loss: 0.03768252, Val Accuracy: 0.98762500\n",
            "Saving the model state dictionary for Epoch: 12 with Validation loss: 0.03768252\n",
            "\n",
            "Epoch: 13/20, Train Loss: 0.01826744, Val Loss: 0.05676957, Val Accuracy: 0.98325000\n",
            "\n",
            "Epoch: 14/20, Train Loss: 0.01639872, Val Loss: 0.04851092, Val Accuracy: 0.98637500\n",
            "\n",
            "Epoch: 15/20, Train Loss: 0.01502638, Val Loss: 0.04938817, Val Accuracy: 0.98650000\n",
            "\n",
            "Epoch: 16/20, Train Loss: 0.01259007, Val Loss: 0.05881322, Val Accuracy: 0.98425000\n",
            "\n",
            "Epoch: 17/20, Train Loss: 0.01149298, Val Loss: 0.04468225, Val Accuracy: 0.98775000\n",
            "\n",
            "Epoch: 18/20, Train Loss: 0.01046899, Val Loss: 0.04894822, Val Accuracy: 0.98675000\n",
            "\n",
            "Epoch: 19/20, Train Loss: 0.00968942, Val Loss: 0.04375025, Val Accuracy: 0.98762500\n",
            "\n",
            "Epoch: 20/20, Train Loss: 0.00821613, Val Loss: 0.04646005, Val Accuracy: 0.98775000\n"
          ]
        },
        {
          "output_type": "display_data",
          "data": {
            "image/png": "[encoded data removed]",
            "text/plain": [
              "<Figure size 1440x720 with 1 Axes>"
            ]
          },
          "metadata": {
            "needs_background": "light"
          }
        }
      ]
    },
    {
      "cell_type": "code",
      "metadata": {
        "colab": {
          "base_uri": "https://localhost:8080/"
        },
        "id": "PajpCLtVgePk",
        "outputId": "a9fcf31a-6538-4ae0-cd22-f3fa11069dbd"
      },
      "source": [
        "# test model\n",
        "model.load_state_dict(torch.load(\"model.dth\"))\n",
        "model.eval()\n",
        "\n",
        "# store correct predictions\n",
        "correct_results = list()\n",
        "# store wrong predictions\n",
        "wrong_results = list()\n",
        "total = 0\n",
        "for itr, (image, label) in enumerate(test_loader):\n",
        "\n",
        "    if (torch.cuda.is_available()):\n",
        "        image = image.cuda()\n",
        "        label = label.cuda()\n",
        "\n",
        "    pred = model(image)\n",
        "    pred = F.softmax(pred, dim=1)\n",
        "\n",
        "    for i, p in enumerate(pred):\n",
        "        if label[i] == torch.max(p.data, 0)[1]:\n",
        "            total = total + 1\n",
        "            correct_results.append((image, torch.max(p.data, 0)[1]))\n",
        "\n",
        "        else:\n",
        "          wrong_results.append((image, torch.max(p.data, 0)[1]))\n",
        "\n",
        "test_accuracy = total / len(test_data)\n",
        "print('Test accuracy {:.8f}'.format(test_accuracy))"
      ],
      "execution_count": 19,
      "outputs": [
        {
          "output_type": "stream",
          "name": "stdout",
          "text": [
            "Test accuracy 0.98650000\n"
          ]
        }
      ]
    },
    {
      "cell_type": "code",
      "metadata": {
        "colab": {
          "base_uri": "https://localhost:8080/",
          "height": 553
        },
        "id": "upHxRfUrgi4k",
        "outputId": "f2938e78-a488-4c15-96d3-e9f42bf6e5f8"
      },
      "source": [
        "# visualize correct results\n",
        "fig=plt.figure(figsize=(20, 10))\n",
        "for i in range(1, min(11, len(correct_results))):\n",
        "    img = transforms.ToPILImage(mode='L')(correct_results[0][0][i])\n",
        "    fig.add_subplot(2, 5, i)\n",
        "    plt.title(correct_results[i][1].item())\n",
        "    plt.imshow(img, cmap='gray', interpolation='none')\n",
        "fig.show()"
      ],
      "execution_count": 20,
      "outputs": [
        {
          "output_type": "display_data",
          "data": {
            "image/png": "[encoded data removed]",
            "text/plain": [
              "<Figure size 1440x720 with 10 Axes>"
            ]
          },
          "metadata": {
            "needs_background": "light"
          }
        }
      ]
    },
    {
      "cell_type": "code",
      "metadata": {
        "colab": {
          "base_uri": "https://localhost:8080/",
          "height": 553
        },
        "id": "yE58kizYgnfV",
        "outputId": "55af2f18-fe1e-44a4-ab96-5d61b0e36b13"
      },
      "source": [
        "# visualize wrong results\n",
        "fig=plt.figure(figsize=(20, 10))\n",
        "for i in range(1, min(11, len(wrong_results))):\n",
        "    img = transforms.ToPILImage(mode='L')(wrong_results[0][0][i])\n",
        "    fig.add_subplot(2, 5, i)\n",
        "    plt.title(wrong_results[i][1].item())\n",
        "    plt.imshow(img, cmap='gray', interpolation='none')\n",
        "fig.show()"
      ],
      "execution_count": 21,
      "outputs": [
        {
          "output_type": "display_data",
          "data": {
            "image/png": "[encoded data removed]",
            "text/plain": [
              "<Figure size 1440x720 with 10 Axes>"
            ]
          },
          "metadata": {
            "needs_background": "light"
          }
        }
      ]
    },
    {
      "cell_type": "code",
      "metadata": {
        "id": "pV7nKw6uhoXL"
      },
      "source": [
        ""
      ],
      "execution_count": 21,
      "outputs": []
    }
  ]
}